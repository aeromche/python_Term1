{
 "cells": [
  {
   "cell_type": "code",
   "execution_count": 1,
   "id": "3c4fbb3b",
   "metadata": {},
   "outputs": [],
   "source": [
    "import numpy as np\n",
    "import pandas as pd"
   ]
  },
  {
   "cell_type": "code",
   "execution_count": 4,
   "id": "6eec14d4",
   "metadata": {},
   "outputs": [
    {
     "data": {
      "text/html": [
       "<div>\n",
       "<style scoped>\n",
       "    .dataframe tbody tr th:only-of-type {\n",
       "        vertical-align: middle;\n",
       "    }\n",
       "\n",
       "    .dataframe tbody tr th {\n",
       "        vertical-align: top;\n",
       "    }\n",
       "\n",
       "    .dataframe thead th {\n",
       "        text-align: right;\n",
       "    }\n",
       "</style>\n",
       "<table border=\"1\" class=\"dataframe\">\n",
       "  <thead>\n",
       "    <tr style=\"text-align: right;\">\n",
       "      <th></th>\n",
       "      <th>restaurant</th>\n",
       "      <th>country</th>\n",
       "      <th>city</th>\n",
       "      <th>dish</th>\n",
       "      <th>price_usd</th>\n",
       "      <th>servings</th>\n",
       "      <th>description</th>\n",
       "      <th>calories</th>\n",
       "    </tr>\n",
       "  </thead>\n",
       "  <tbody>\n",
       "    <tr>\n",
       "      <th>0</th>\n",
       "      <td>Brazilian Grill #1</td>\n",
       "      <td>Brazil</td>\n",
       "      <td>São Paulo</td>\n",
       "      <td>Feijoada</td>\n",
       "      <td>20.45</td>\n",
       "      <td>261</td>\n",
       "      <td>Stew of beans with pork, beef, and sausage, se...</td>\n",
       "      <td>816</td>\n",
       "    </tr>\n",
       "    <tr>\n",
       "      <th>1</th>\n",
       "      <td>Persian Delight #2</td>\n",
       "      <td>Iran</td>\n",
       "      <td>Tehran</td>\n",
       "      <td>Chelo Kebab</td>\n",
       "      <td>12.90</td>\n",
       "      <td>341</td>\n",
       "      <td>Grilled kebabs served with saffron rice, butte...</td>\n",
       "      <td>341</td>\n",
       "    </tr>\n",
       "    <tr>\n",
       "      <th>2</th>\n",
       "      <td>Brazilian Grill #3</td>\n",
       "      <td>Brazil</td>\n",
       "      <td>São Paulo</td>\n",
       "      <td>Feijoada</td>\n",
       "      <td>21.91</td>\n",
       "      <td>213</td>\n",
       "      <td>Stew of beans with pork, beef, and sausage, se...</td>\n",
       "      <td>702</td>\n",
       "    </tr>\n",
       "    <tr>\n",
       "      <th>3</th>\n",
       "      <td>Sushi Zen #4</td>\n",
       "      <td>Japan</td>\n",
       "      <td>Tokyo</td>\n",
       "      <td>Sushi Platter</td>\n",
       "      <td>24.94</td>\n",
       "      <td>394</td>\n",
       "      <td>Assorted fresh sushi with tuna, salmon, shrimp...</td>\n",
       "      <td>877</td>\n",
       "    </tr>\n",
       "    <tr>\n",
       "      <th>4</th>\n",
       "      <td>Burger Hub #5</td>\n",
       "      <td>USA</td>\n",
       "      <td>New York</td>\n",
       "      <td>Cheeseburger</td>\n",
       "      <td>13.24</td>\n",
       "      <td>145</td>\n",
       "      <td>Juicy beef patty with cheese, lettuce, tomato,...</td>\n",
       "      <td>1126</td>\n",
       "    </tr>\n",
       "    <tr>\n",
       "      <th>...</th>\n",
       "      <td>...</td>\n",
       "      <td>...</td>\n",
       "      <td>...</td>\n",
       "      <td>...</td>\n",
       "      <td>...</td>\n",
       "      <td>...</td>\n",
       "      <td>...</td>\n",
       "      <td>...</td>\n",
       "    </tr>\n",
       "    <tr>\n",
       "      <th>95</th>\n",
       "      <td>Seoul Kitchen #96</td>\n",
       "      <td>South Korea</td>\n",
       "      <td>Seoul</td>\n",
       "      <td>Bibimbap</td>\n",
       "      <td>15.21</td>\n",
       "      <td>121</td>\n",
       "      <td>Mixed rice with vegetables, beef, egg, and chi...</td>\n",
       "      <td>1047</td>\n",
       "    </tr>\n",
       "    <tr>\n",
       "      <th>96</th>\n",
       "      <td>Russian Table #97</td>\n",
       "      <td>Russia</td>\n",
       "      <td>Moscow</td>\n",
       "      <td>Beef Stroganoff</td>\n",
       "      <td>17.88</td>\n",
       "      <td>314</td>\n",
       "      <td>Sautéed beef in creamy sauce with mushrooms an...</td>\n",
       "      <td>484</td>\n",
       "    </tr>\n",
       "    <tr>\n",
       "      <th>97</th>\n",
       "      <td>El Asador #98</td>\n",
       "      <td>Argentina</td>\n",
       "      <td>Buenos Aires</td>\n",
       "      <td>Bife de Chorizo</td>\n",
       "      <td>18.86</td>\n",
       "      <td>337</td>\n",
       "      <td>Grilled sirloin steak served with chimichurri ...</td>\n",
       "      <td>845</td>\n",
       "    </tr>\n",
       "    <tr>\n",
       "      <th>98</th>\n",
       "      <td>Thai Orchid #99</td>\n",
       "      <td>Thailand</td>\n",
       "      <td>Bangkok</td>\n",
       "      <td>Pad Thai</td>\n",
       "      <td>15.22</td>\n",
       "      <td>259</td>\n",
       "      <td>Stir-fried rice noodles with shrimp, peanuts, ...</td>\n",
       "      <td>905</td>\n",
       "    </tr>\n",
       "    <tr>\n",
       "      <th>99</th>\n",
       "      <td>Casa de Tapas #100</td>\n",
       "      <td>Spain</td>\n",
       "      <td>Barcelona</td>\n",
       "      <td>Paella</td>\n",
       "      <td>28.77</td>\n",
       "      <td>332</td>\n",
       "      <td>Traditional rice dish with seafood, chicken, a...</td>\n",
       "      <td>333</td>\n",
       "    </tr>\n",
       "  </tbody>\n",
       "</table>\n",
       "<p>100 rows × 8 columns</p>\n",
       "</div>"
      ],
      "text/plain": [
       "            restaurant      country          city             dish  price_usd  \\\n",
       "0   Brazilian Grill #1       Brazil     São Paulo         Feijoada      20.45   \n",
       "1   Persian Delight #2         Iran        Tehran      Chelo Kebab      12.90   \n",
       "2   Brazilian Grill #3       Brazil     São Paulo         Feijoada      21.91   \n",
       "3         Sushi Zen #4        Japan         Tokyo    Sushi Platter      24.94   \n",
       "4        Burger Hub #5          USA      New York     Cheeseburger      13.24   \n",
       "..                 ...          ...           ...              ...        ...   \n",
       "95   Seoul Kitchen #96  South Korea         Seoul         Bibimbap      15.21   \n",
       "96   Russian Table #97       Russia        Moscow  Beef Stroganoff      17.88   \n",
       "97       El Asador #98    Argentina  Buenos Aires  Bife de Chorizo      18.86   \n",
       "98     Thai Orchid #99     Thailand       Bangkok         Pad Thai      15.22   \n",
       "99  Casa de Tapas #100        Spain     Barcelona           Paella      28.77   \n",
       "\n",
       "    servings                                        description  calories  \n",
       "0        261  Stew of beans with pork, beef, and sausage, se...       816  \n",
       "1        341  Grilled kebabs served with saffron rice, butte...       341  \n",
       "2        213  Stew of beans with pork, beef, and sausage, se...       702  \n",
       "3        394  Assorted fresh sushi with tuna, salmon, shrimp...       877  \n",
       "4        145  Juicy beef patty with cheese, lettuce, tomato,...      1126  \n",
       "..       ...                                                ...       ...  \n",
       "95       121  Mixed rice with vegetables, beef, egg, and chi...      1047  \n",
       "96       314  Sautéed beef in creamy sauce with mushrooms an...       484  \n",
       "97       337  Grilled sirloin steak served with chimichurri ...       845  \n",
       "98       259  Stir-fried rice noodles with shrimp, peanuts, ...       905  \n",
       "99       332  Traditional rice dish with seafood, chicken, a...       333  \n",
       "\n",
       "[100 rows x 8 columns]"
      ]
     },
     "execution_count": 4,
     "metadata": {},
     "output_type": "execute_result"
    }
   ],
   "source": [
    "df=pd.read_csv('datasets/restaurant_dataset_100_with_calories.csv')\n",
    "df"
   ]
  },
  {
   "cell_type": "code",
   "execution_count": 5,
   "id": "f9b65a35",
   "metadata": {},
   "outputs": [
    {
     "data": {
      "text/html": [
       "<div>\n",
       "<style scoped>\n",
       "    .dataframe tbody tr th:only-of-type {\n",
       "        vertical-align: middle;\n",
       "    }\n",
       "\n",
       "    .dataframe tbody tr th {\n",
       "        vertical-align: top;\n",
       "    }\n",
       "\n",
       "    .dataframe thead th {\n",
       "        text-align: right;\n",
       "    }\n",
       "</style>\n",
       "<table border=\"1\" class=\"dataframe\">\n",
       "  <thead>\n",
       "    <tr style=\"text-align: right;\">\n",
       "      <th></th>\n",
       "      <th>restaurant</th>\n",
       "      <th>country</th>\n",
       "      <th>city</th>\n",
       "      <th>dish</th>\n",
       "      <th>price_usd</th>\n",
       "      <th>servings</th>\n",
       "      <th>description</th>\n",
       "      <th>calories</th>\n",
       "    </tr>\n",
       "  </thead>\n",
       "  <tbody>\n",
       "    <tr>\n",
       "      <th>0</th>\n",
       "      <td>Brazilian Grill #1</td>\n",
       "      <td>Brazil</td>\n",
       "      <td>São Paulo</td>\n",
       "      <td>Feijoada</td>\n",
       "      <td>20.45</td>\n",
       "      <td>261</td>\n",
       "      <td>Stew of beans with pork, beef, and sausage, se...</td>\n",
       "      <td>816</td>\n",
       "    </tr>\n",
       "    <tr>\n",
       "      <th>1</th>\n",
       "      <td>Persian Delight #2</td>\n",
       "      <td>Iran</td>\n",
       "      <td>Tehran</td>\n",
       "      <td>Chelo Kebab</td>\n",
       "      <td>12.90</td>\n",
       "      <td>341</td>\n",
       "      <td>Grilled kebabs served with saffron rice, butte...</td>\n",
       "      <td>341</td>\n",
       "    </tr>\n",
       "    <tr>\n",
       "      <th>2</th>\n",
       "      <td>Brazilian Grill #3</td>\n",
       "      <td>Brazil</td>\n",
       "      <td>São Paulo</td>\n",
       "      <td>Feijoada</td>\n",
       "      <td>21.91</td>\n",
       "      <td>213</td>\n",
       "      <td>Stew of beans with pork, beef, and sausage, se...</td>\n",
       "      <td>702</td>\n",
       "    </tr>\n",
       "    <tr>\n",
       "      <th>3</th>\n",
       "      <td>Sushi Zen #4</td>\n",
       "      <td>Japan</td>\n",
       "      <td>Tokyo</td>\n",
       "      <td>Sushi Platter</td>\n",
       "      <td>24.94</td>\n",
       "      <td>394</td>\n",
       "      <td>Assorted fresh sushi with tuna, salmon, shrimp...</td>\n",
       "      <td>877</td>\n",
       "    </tr>\n",
       "    <tr>\n",
       "      <th>4</th>\n",
       "      <td>Burger Hub #5</td>\n",
       "      <td>USA</td>\n",
       "      <td>New York</td>\n",
       "      <td>Cheeseburger</td>\n",
       "      <td>13.24</td>\n",
       "      <td>145</td>\n",
       "      <td>Juicy beef patty with cheese, lettuce, tomato,...</td>\n",
       "      <td>1126</td>\n",
       "    </tr>\n",
       "  </tbody>\n",
       "</table>\n",
       "</div>"
      ],
      "text/plain": [
       "           restaurant country       city           dish  price_usd  servings  \\\n",
       "0  Brazilian Grill #1  Brazil  São Paulo       Feijoada      20.45       261   \n",
       "1  Persian Delight #2    Iran     Tehran    Chelo Kebab      12.90       341   \n",
       "2  Brazilian Grill #3  Brazil  São Paulo       Feijoada      21.91       213   \n",
       "3        Sushi Zen #4   Japan      Tokyo  Sushi Platter      24.94       394   \n",
       "4       Burger Hub #5     USA   New York   Cheeseburger      13.24       145   \n",
       "\n",
       "                                         description  calories  \n",
       "0  Stew of beans with pork, beef, and sausage, se...       816  \n",
       "1  Grilled kebabs served with saffron rice, butte...       341  \n",
       "2  Stew of beans with pork, beef, and sausage, se...       702  \n",
       "3  Assorted fresh sushi with tuna, salmon, shrimp...       877  \n",
       "4  Juicy beef patty with cheese, lettuce, tomato,...      1126  "
      ]
     },
     "execution_count": 5,
     "metadata": {},
     "output_type": "execute_result"
    }
   ],
   "source": [
    "df.head()"
   ]
  },
  {
   "cell_type": "code",
   "execution_count": 6,
   "id": "86b27fa9",
   "metadata": {},
   "outputs": [
    {
     "data": {
      "text/html": [
       "<div>\n",
       "<style scoped>\n",
       "    .dataframe tbody tr th:only-of-type {\n",
       "        vertical-align: middle;\n",
       "    }\n",
       "\n",
       "    .dataframe tbody tr th {\n",
       "        vertical-align: top;\n",
       "    }\n",
       "\n",
       "    .dataframe thead th {\n",
       "        text-align: right;\n",
       "    }\n",
       "</style>\n",
       "<table border=\"1\" class=\"dataframe\">\n",
       "  <thead>\n",
       "    <tr style=\"text-align: right;\">\n",
       "      <th></th>\n",
       "      <th>restaurant</th>\n",
       "      <th>country</th>\n",
       "      <th>city</th>\n",
       "      <th>dish</th>\n",
       "      <th>price_usd</th>\n",
       "      <th>servings</th>\n",
       "      <th>description</th>\n",
       "      <th>calories</th>\n",
       "    </tr>\n",
       "  </thead>\n",
       "  <tbody>\n",
       "    <tr>\n",
       "      <th>95</th>\n",
       "      <td>Seoul Kitchen #96</td>\n",
       "      <td>South Korea</td>\n",
       "      <td>Seoul</td>\n",
       "      <td>Bibimbap</td>\n",
       "      <td>15.21</td>\n",
       "      <td>121</td>\n",
       "      <td>Mixed rice with vegetables, beef, egg, and chi...</td>\n",
       "      <td>1047</td>\n",
       "    </tr>\n",
       "    <tr>\n",
       "      <th>96</th>\n",
       "      <td>Russian Table #97</td>\n",
       "      <td>Russia</td>\n",
       "      <td>Moscow</td>\n",
       "      <td>Beef Stroganoff</td>\n",
       "      <td>17.88</td>\n",
       "      <td>314</td>\n",
       "      <td>Sautéed beef in creamy sauce with mushrooms an...</td>\n",
       "      <td>484</td>\n",
       "    </tr>\n",
       "    <tr>\n",
       "      <th>97</th>\n",
       "      <td>El Asador #98</td>\n",
       "      <td>Argentina</td>\n",
       "      <td>Buenos Aires</td>\n",
       "      <td>Bife de Chorizo</td>\n",
       "      <td>18.86</td>\n",
       "      <td>337</td>\n",
       "      <td>Grilled sirloin steak served with chimichurri ...</td>\n",
       "      <td>845</td>\n",
       "    </tr>\n",
       "    <tr>\n",
       "      <th>98</th>\n",
       "      <td>Thai Orchid #99</td>\n",
       "      <td>Thailand</td>\n",
       "      <td>Bangkok</td>\n",
       "      <td>Pad Thai</td>\n",
       "      <td>15.22</td>\n",
       "      <td>259</td>\n",
       "      <td>Stir-fried rice noodles with shrimp, peanuts, ...</td>\n",
       "      <td>905</td>\n",
       "    </tr>\n",
       "    <tr>\n",
       "      <th>99</th>\n",
       "      <td>Casa de Tapas #100</td>\n",
       "      <td>Spain</td>\n",
       "      <td>Barcelona</td>\n",
       "      <td>Paella</td>\n",
       "      <td>28.77</td>\n",
       "      <td>332</td>\n",
       "      <td>Traditional rice dish with seafood, chicken, a...</td>\n",
       "      <td>333</td>\n",
       "    </tr>\n",
       "  </tbody>\n",
       "</table>\n",
       "</div>"
      ],
      "text/plain": [
       "            restaurant      country          city             dish  price_usd  \\\n",
       "95   Seoul Kitchen #96  South Korea         Seoul         Bibimbap      15.21   \n",
       "96   Russian Table #97       Russia        Moscow  Beef Stroganoff      17.88   \n",
       "97       El Asador #98    Argentina  Buenos Aires  Bife de Chorizo      18.86   \n",
       "98     Thai Orchid #99     Thailand       Bangkok         Pad Thai      15.22   \n",
       "99  Casa de Tapas #100        Spain     Barcelona           Paella      28.77   \n",
       "\n",
       "    servings                                        description  calories  \n",
       "95       121  Mixed rice with vegetables, beef, egg, and chi...      1047  \n",
       "96       314  Sautéed beef in creamy sauce with mushrooms an...       484  \n",
       "97       337  Grilled sirloin steak served with chimichurri ...       845  \n",
       "98       259  Stir-fried rice noodles with shrimp, peanuts, ...       905  \n",
       "99       332  Traditional rice dish with seafood, chicken, a...       333  "
      ]
     },
     "execution_count": 6,
     "metadata": {},
     "output_type": "execute_result"
    }
   ],
   "source": [
    "df.tail()"
   ]
  },
  {
   "cell_type": "code",
   "execution_count": 11,
   "id": "9ee9d9b9",
   "metadata": {},
   "outputs": [
    {
     "name": "stdout",
     "output_type": "stream",
     "text": [
      "(100, 8)\n"
     ]
    }
   ],
   "source": [
    "print(df.shape)"
   ]
  },
  {
   "cell_type": "code",
   "execution_count": 9,
   "id": "12a899e1",
   "metadata": {},
   "outputs": [
    {
     "name": "stdout",
     "output_type": "stream",
     "text": [
      "<class 'pandas.core.frame.DataFrame'>\n",
      "RangeIndex: 100 entries, 0 to 99\n",
      "Data columns (total 8 columns):\n",
      " #   Column       Non-Null Count  Dtype  \n",
      "---  ------       --------------  -----  \n",
      " 0   restaurant   100 non-null    object \n",
      " 1   country      100 non-null    object \n",
      " 2   city         100 non-null    object \n",
      " 3   dish         100 non-null    object \n",
      " 4   price_usd    100 non-null    float64\n",
      " 5   servings     100 non-null    int64  \n",
      " 6   description  100 non-null    object \n",
      " 7   calories     100 non-null    int64  \n",
      "dtypes: float64(1), int64(2), object(5)\n",
      "memory usage: 6.4+ KB\n",
      "None\n"
     ]
    }
   ],
   "source": [
    "print(df.info())"
   ]
  },
  {
   "cell_type": "code",
   "execution_count": 12,
   "id": "55e12fcc",
   "metadata": {},
   "outputs": [
    {
     "name": "stdout",
     "output_type": "stream",
     "text": [
      "        price_usd    servings     calories\n",
      "count  100.000000  100.000000   100.000000\n",
      "mean    17.492200  243.090000   729.470000\n",
      "std      5.686034   94.540045   271.134037\n",
      "min      6.870000   81.000000   279.000000\n",
      "25%     14.042500  150.250000   517.000000\n",
      "50%     16.100000  260.000000   710.500000\n",
      "75%     20.210000  320.750000   988.750000\n",
      "max     34.790000  397.000000  1179.000000\n"
     ]
    }
   ],
   "source": [
    "print(df.describe())"
   ]
  },
  {
   "cell_type": "code",
   "execution_count": 13,
   "id": "389e275b",
   "metadata": {},
   "outputs": [
    {
     "name": "stdout",
     "output_type": "stream",
     "text": [
      "0     Brazilian Grill #1\n",
      "1     Persian Delight #2\n",
      "2     Brazilian Grill #3\n",
      "3           Sushi Zen #4\n",
      "4          Burger Hub #5\n",
      "             ...        \n",
      "95     Seoul Kitchen #96\n",
      "96     Russian Table #97\n",
      "97         El Asador #98\n",
      "98       Thai Orchid #99\n",
      "99    Casa de Tapas #100\n",
      "Name: restaurant, Length: 100, dtype: object\n"
     ]
    }
   ],
   "source": [
    "print(df['restaurant'])"
   ]
  },
  {
   "cell_type": "code",
   "execution_count": 14,
   "id": "51cc8bb8",
   "metadata": {},
   "outputs": [
    {
     "data": {
      "text/plain": [
       "0                Feijoada\n",
       "1             Chelo Kebab\n",
       "2                Feijoada\n",
       "3           Sushi Platter\n",
       "4            Cheeseburger\n",
       "5    Chicken Tikka Masala\n",
       "6          Fish and Chips\n",
       "7    Chicken Tikka Masala\n",
       "8                Feijoada\n",
       "9         Bife de Chorizo\n",
       "Name: dish, dtype: object"
      ]
     },
     "execution_count": 14,
     "metadata": {},
     "output_type": "execute_result"
    }
   ],
   "source": [
    "df['dish'].head(10)"
   ]
  },
  {
   "cell_type": "code",
   "execution_count": 15,
   "id": "ef535734",
   "metadata": {},
   "outputs": [
    {
     "data": {
      "text/plain": [
       "Index(['restaurant', 'country', 'city', 'dish', 'price_usd', 'servings',\n",
       "       'description', 'calories'],\n",
       "      dtype='object')"
      ]
     },
     "execution_count": 15,
     "metadata": {},
     "output_type": "execute_result"
    }
   ],
   "source": [
    "df.columns"
   ]
  },
  {
   "cell_type": "code",
   "execution_count": 17,
   "id": "7f3792bc",
   "metadata": {},
   "outputs": [
    {
     "data": {
      "text/html": [
       "<div>\n",
       "<style scoped>\n",
       "    .dataframe tbody tr th:only-of-type {\n",
       "        vertical-align: middle;\n",
       "    }\n",
       "\n",
       "    .dataframe tbody tr th {\n",
       "        vertical-align: top;\n",
       "    }\n",
       "\n",
       "    .dataframe thead th {\n",
       "        text-align: right;\n",
       "    }\n",
       "</style>\n",
       "<table border=\"1\" class=\"dataframe\">\n",
       "  <thead>\n",
       "    <tr style=\"text-align: right;\">\n",
       "      <th></th>\n",
       "      <th>country</th>\n",
       "      <th>dish</th>\n",
       "    </tr>\n",
       "  </thead>\n",
       "  <tbody>\n",
       "    <tr>\n",
       "      <th>0</th>\n",
       "      <td>Brazil</td>\n",
       "      <td>Feijoada</td>\n",
       "    </tr>\n",
       "    <tr>\n",
       "      <th>1</th>\n",
       "      <td>Iran</td>\n",
       "      <td>Chelo Kebab</td>\n",
       "    </tr>\n",
       "    <tr>\n",
       "      <th>2</th>\n",
       "      <td>Brazil</td>\n",
       "      <td>Feijoada</td>\n",
       "    </tr>\n",
       "    <tr>\n",
       "      <th>3</th>\n",
       "      <td>Japan</td>\n",
       "      <td>Sushi Platter</td>\n",
       "    </tr>\n",
       "    <tr>\n",
       "      <th>4</th>\n",
       "      <td>USA</td>\n",
       "      <td>Cheeseburger</td>\n",
       "    </tr>\n",
       "    <tr>\n",
       "      <th>5</th>\n",
       "      <td>India</td>\n",
       "      <td>Chicken Tikka Masala</td>\n",
       "    </tr>\n",
       "    <tr>\n",
       "      <th>6</th>\n",
       "      <td>UK</td>\n",
       "      <td>Fish and Chips</td>\n",
       "    </tr>\n",
       "    <tr>\n",
       "      <th>7</th>\n",
       "      <td>India</td>\n",
       "      <td>Chicken Tikka Masala</td>\n",
       "    </tr>\n",
       "    <tr>\n",
       "      <th>8</th>\n",
       "      <td>Brazil</td>\n",
       "      <td>Feijoada</td>\n",
       "    </tr>\n",
       "    <tr>\n",
       "      <th>9</th>\n",
       "      <td>Argentina</td>\n",
       "      <td>Bife de Chorizo</td>\n",
       "    </tr>\n",
       "  </tbody>\n",
       "</table>\n",
       "</div>"
      ],
      "text/plain": [
       "     country                  dish\n",
       "0     Brazil              Feijoada\n",
       "1       Iran           Chelo Kebab\n",
       "2     Brazil              Feijoada\n",
       "3      Japan         Sushi Platter\n",
       "4        USA          Cheeseburger\n",
       "5      India  Chicken Tikka Masala\n",
       "6         UK        Fish and Chips\n",
       "7      India  Chicken Tikka Masala\n",
       "8     Brazil              Feijoada\n",
       "9  Argentina       Bife de Chorizo"
      ]
     },
     "execution_count": 17,
     "metadata": {},
     "output_type": "execute_result"
    }
   ],
   "source": [
    "df[['country','dish']].head(10)"
   ]
  },
  {
   "cell_type": "code",
   "execution_count": 24,
   "id": "72b6393a",
   "metadata": {},
   "outputs": [
    {
     "data": {
      "text/plain": [
       "array(['Brazil', 'Iran', 'Japan', 'USA', 'India', 'UK', 'Argentina',\n",
       "       'South Korea', 'Spain', 'France', 'Turkey', 'Thailand', 'Germany',\n",
       "       'Russia', 'Greece', 'China', 'Morocco', 'Lebanon', 'Italy'],\n",
       "      dtype=object)"
      ]
     },
     "execution_count": 24,
     "metadata": {},
     "output_type": "execute_result"
    }
   ],
   "source": [
    "df['country'].unique()"
   ]
  },
  {
   "cell_type": "code",
   "execution_count": 25,
   "id": "d2a179db",
   "metadata": {},
   "outputs": [
    {
     "data": {
      "text/plain": [
       "np.float64(34.79)"
      ]
     },
     "execution_count": 25,
     "metadata": {},
     "output_type": "execute_result"
    }
   ],
   "source": [
    "df['price_usd'].max()"
   ]
  },
  {
   "cell_type": "code",
   "execution_count": 26,
   "id": "a733700f",
   "metadata": {},
   "outputs": [
    {
     "data": {
      "text/plain": [
       "100"
      ]
     },
     "execution_count": 26,
     "metadata": {},
     "output_type": "execute_result"
    }
   ],
   "source": [
    "df['restaurant'].nunique()"
   ]
  },
  {
   "cell_type": "code",
   "execution_count": 30,
   "id": "3478ebc2",
   "metadata": {},
   "outputs": [
    {
     "data": {
      "text/html": [
       "<div>\n",
       "<style scoped>\n",
       "    .dataframe tbody tr th:only-of-type {\n",
       "        vertical-align: middle;\n",
       "    }\n",
       "\n",
       "    .dataframe tbody tr th {\n",
       "        vertical-align: top;\n",
       "    }\n",
       "\n",
       "    .dataframe thead th {\n",
       "        text-align: right;\n",
       "    }\n",
       "</style>\n",
       "<table border=\"1\" class=\"dataframe\">\n",
       "  <thead>\n",
       "    <tr style=\"text-align: right;\">\n",
       "      <th></th>\n",
       "      <th>restaurant</th>\n",
       "      <th>country</th>\n",
       "      <th>city</th>\n",
       "      <th>dish</th>\n",
       "      <th>price_usd</th>\n",
       "    </tr>\n",
       "  </thead>\n",
       "  <tbody>\n",
       "    <tr>\n",
       "      <th>0</th>\n",
       "      <td>Brazilian Grill #1</td>\n",
       "      <td>Brazil</td>\n",
       "      <td>São Paulo</td>\n",
       "      <td>Feijoada</td>\n",
       "      <td>20.45</td>\n",
       "    </tr>\n",
       "    <tr>\n",
       "      <th>1</th>\n",
       "      <td>Persian Delight #2</td>\n",
       "      <td>Iran</td>\n",
       "      <td>Tehran</td>\n",
       "      <td>Chelo Kebab</td>\n",
       "      <td>12.90</td>\n",
       "    </tr>\n",
       "    <tr>\n",
       "      <th>2</th>\n",
       "      <td>Brazilian Grill #3</td>\n",
       "      <td>Brazil</td>\n",
       "      <td>São Paulo</td>\n",
       "      <td>Feijoada</td>\n",
       "      <td>21.91</td>\n",
       "    </tr>\n",
       "    <tr>\n",
       "      <th>3</th>\n",
       "      <td>Sushi Zen #4</td>\n",
       "      <td>Japan</td>\n",
       "      <td>Tokyo</td>\n",
       "      <td>Sushi Platter</td>\n",
       "      <td>24.94</td>\n",
       "    </tr>\n",
       "    <tr>\n",
       "      <th>4</th>\n",
       "      <td>Burger Hub #5</td>\n",
       "      <td>USA</td>\n",
       "      <td>New York</td>\n",
       "      <td>Cheeseburger</td>\n",
       "      <td>13.24</td>\n",
       "    </tr>\n",
       "    <tr>\n",
       "      <th>5</th>\n",
       "      <td>Tandoori Palace #6</td>\n",
       "      <td>India</td>\n",
       "      <td>Delhi</td>\n",
       "      <td>Chicken Tikka Masala</td>\n",
       "      <td>15.82</td>\n",
       "    </tr>\n",
       "    <tr>\n",
       "      <th>6</th>\n",
       "      <td>London Pub #7</td>\n",
       "      <td>UK</td>\n",
       "      <td>London</td>\n",
       "      <td>Fish and Chips</td>\n",
       "      <td>13.17</td>\n",
       "    </tr>\n",
       "    <tr>\n",
       "      <th>7</th>\n",
       "      <td>Tandoori Palace #8</td>\n",
       "      <td>India</td>\n",
       "      <td>Delhi</td>\n",
       "      <td>Chicken Tikka Masala</td>\n",
       "      <td>13.76</td>\n",
       "    </tr>\n",
       "    <tr>\n",
       "      <th>8</th>\n",
       "      <td>Brazilian Grill #9</td>\n",
       "      <td>Brazil</td>\n",
       "      <td>São Paulo</td>\n",
       "      <td>Feijoada</td>\n",
       "      <td>20.11</td>\n",
       "    </tr>\n",
       "    <tr>\n",
       "      <th>9</th>\n",
       "      <td>El Asador #10</td>\n",
       "      <td>Argentina</td>\n",
       "      <td>Buenos Aires</td>\n",
       "      <td>Bife de Chorizo</td>\n",
       "      <td>23.29</td>\n",
       "    </tr>\n",
       "  </tbody>\n",
       "</table>\n",
       "</div>"
      ],
      "text/plain": [
       "           restaurant    country          city                  dish  \\\n",
       "0  Brazilian Grill #1     Brazil     São Paulo              Feijoada   \n",
       "1  Persian Delight #2       Iran        Tehran           Chelo Kebab   \n",
       "2  Brazilian Grill #3     Brazil     São Paulo              Feijoada   \n",
       "3        Sushi Zen #4      Japan         Tokyo         Sushi Platter   \n",
       "4       Burger Hub #5        USA      New York          Cheeseburger   \n",
       "5  Tandoori Palace #6      India         Delhi  Chicken Tikka Masala   \n",
       "6       London Pub #7         UK        London        Fish and Chips   \n",
       "7  Tandoori Palace #8      India         Delhi  Chicken Tikka Masala   \n",
       "8  Brazilian Grill #9     Brazil     São Paulo              Feijoada   \n",
       "9       El Asador #10  Argentina  Buenos Aires       Bife de Chorizo   \n",
       "\n",
       "   price_usd  \n",
       "0      20.45  \n",
       "1      12.90  \n",
       "2      21.91  \n",
       "3      24.94  \n",
       "4      13.24  \n",
       "5      15.82  \n",
       "6      13.17  \n",
       "7      13.76  \n",
       "8      20.11  \n",
       "9      23.29  "
      ]
     },
     "execution_count": 30,
     "metadata": {},
     "output_type": "execute_result"
    }
   ],
   "source": [
    "df_small=df[['restaurant', 'country', 'city', 'dish', 'price_usd']].head(10)\n",
    "df_small"
   ]
  },
  {
   "cell_type": "code",
   "execution_count": 31,
   "id": "703b74e8",
   "metadata": {},
   "outputs": [
    {
     "data": {
      "text/plain": [
       "np.float64(17.959)"
      ]
     },
     "execution_count": 31,
     "metadata": {},
     "output_type": "execute_result"
    }
   ],
   "source": [
    "df_small['price_usd'].mean()"
   ]
  },
  {
   "cell_type": "code",
   "execution_count": 33,
   "id": "0ed9b5cc",
   "metadata": {},
   "outputs": [
    {
     "data": {
      "text/plain": [
       "83"
      ]
     },
     "execution_count": 33,
     "metadata": {},
     "output_type": "execute_result"
    }
   ],
   "source": [
    "df['servings'].idxmax()"
   ]
  },
  {
   "cell_type": "code",
   "execution_count": 34,
   "id": "62e5ee2e",
   "metadata": {},
   "outputs": [
    {
     "data": {
      "text/plain": [
       "restaurant                                        Le Gourmet #84\n",
       "country                                                   France\n",
       "city                                                       Paris\n",
       "dish                                                  Coq au Vin\n",
       "price_usd                                                  20.13\n",
       "servings                                                     397\n",
       "description    Classic French dish of chicken braised with wi...\n",
       "calories                                                     604\n",
       "Name: 83, dtype: object"
      ]
     },
     "execution_count": 34,
     "metadata": {},
     "output_type": "execute_result"
    }
   ],
   "source": [
    "df.loc[df['servings'].idxmax()]"
   ]
  },
  {
   "cell_type": "code",
   "execution_count": 38,
   "id": "1ef870d5",
   "metadata": {},
   "outputs": [
    {
     "data": {
      "text/plain": [
       "'Le Gourmet #84'"
      ]
     },
     "execution_count": 38,
     "metadata": {},
     "output_type": "execute_result"
    }
   ],
   "source": [
    "df.loc[df['servings'].idxmax()]['restaurant']"
   ]
  },
  {
   "cell_type": "code",
   "execution_count": 44,
   "id": "141e11c0",
   "metadata": {},
   "outputs": [
    {
     "data": {
      "text/plain": [
       "0     20.45\n",
       "1     12.90\n",
       "2     21.91\n",
       "3     24.94\n",
       "4     13.24\n",
       "      ...  \n",
       "95    15.21\n",
       "96    17.88\n",
       "97    18.86\n",
       "98    15.22\n",
       "99    28.77\n",
       "Name: price_usd, Length: 100, dtype: float64"
      ]
     },
     "execution_count": 44,
     "metadata": {},
     "output_type": "execute_result"
    }
   ],
   "source": [
    "s = df['price_usd']\n",
    "s"
   ]
  },
  {
   "cell_type": "code",
   "execution_count": 40,
   "id": "372bdc95",
   "metadata": {},
   "outputs": [
    {
     "data": {
      "text/plain": [
       "pandas.core.series.Series"
      ]
     },
     "execution_count": 40,
     "metadata": {},
     "output_type": "execute_result"
    }
   ],
   "source": [
    "type(s)"
   ]
  },
  {
   "cell_type": "code",
   "execution_count": 45,
   "id": "f6b6d627",
   "metadata": {},
   "outputs": [
    {
     "data": {
      "text/html": [
       "<div>\n",
       "<style scoped>\n",
       "    .dataframe tbody tr th:only-of-type {\n",
       "        vertical-align: middle;\n",
       "    }\n",
       "\n",
       "    .dataframe tbody tr th {\n",
       "        vertical-align: top;\n",
       "    }\n",
       "\n",
       "    .dataframe thead th {\n",
       "        text-align: right;\n",
       "    }\n",
       "</style>\n",
       "<table border=\"1\" class=\"dataframe\">\n",
       "  <thead>\n",
       "    <tr style=\"text-align: right;\">\n",
       "      <th></th>\n",
       "      <th>price_usd</th>\n",
       "      <th>servings</th>\n",
       "    </tr>\n",
       "  </thead>\n",
       "  <tbody>\n",
       "    <tr>\n",
       "      <th>0</th>\n",
       "      <td>20.45</td>\n",
       "      <td>261</td>\n",
       "    </tr>\n",
       "    <tr>\n",
       "      <th>1</th>\n",
       "      <td>12.90</td>\n",
       "      <td>341</td>\n",
       "    </tr>\n",
       "    <tr>\n",
       "      <th>2</th>\n",
       "      <td>21.91</td>\n",
       "      <td>213</td>\n",
       "    </tr>\n",
       "    <tr>\n",
       "      <th>3</th>\n",
       "      <td>24.94</td>\n",
       "      <td>394</td>\n",
       "    </tr>\n",
       "    <tr>\n",
       "      <th>4</th>\n",
       "      <td>13.24</td>\n",
       "      <td>145</td>\n",
       "    </tr>\n",
       "    <tr>\n",
       "      <th>...</th>\n",
       "      <td>...</td>\n",
       "      <td>...</td>\n",
       "    </tr>\n",
       "    <tr>\n",
       "      <th>95</th>\n",
       "      <td>15.21</td>\n",
       "      <td>121</td>\n",
       "    </tr>\n",
       "    <tr>\n",
       "      <th>96</th>\n",
       "      <td>17.88</td>\n",
       "      <td>314</td>\n",
       "    </tr>\n",
       "    <tr>\n",
       "      <th>97</th>\n",
       "      <td>18.86</td>\n",
       "      <td>337</td>\n",
       "    </tr>\n",
       "    <tr>\n",
       "      <th>98</th>\n",
       "      <td>15.22</td>\n",
       "      <td>259</td>\n",
       "    </tr>\n",
       "    <tr>\n",
       "      <th>99</th>\n",
       "      <td>28.77</td>\n",
       "      <td>332</td>\n",
       "    </tr>\n",
       "  </tbody>\n",
       "</table>\n",
       "<p>100 rows × 2 columns</p>\n",
       "</div>"
      ],
      "text/plain": [
       "    price_usd  servings\n",
       "0       20.45       261\n",
       "1       12.90       341\n",
       "2       21.91       213\n",
       "3       24.94       394\n",
       "4       13.24       145\n",
       "..        ...       ...\n",
       "95      15.21       121\n",
       "96      17.88       314\n",
       "97      18.86       337\n",
       "98      15.22       259\n",
       "99      28.77       332\n",
       "\n",
       "[100 rows x 2 columns]"
      ]
     },
     "execution_count": 45,
     "metadata": {},
     "output_type": "execute_result"
    }
   ],
   "source": [
    "d = df[['price_usd','servings']]\n",
    "d"
   ]
  },
  {
   "cell_type": "code",
   "execution_count": 46,
   "id": "4a19dda4",
   "metadata": {},
   "outputs": [
    {
     "data": {
      "text/plain": [
       "pandas.core.frame.DataFrame"
      ]
     },
     "execution_count": 46,
     "metadata": {},
     "output_type": "execute_result"
    }
   ],
   "source": [
    "type(d)"
   ]
  },
  {
   "cell_type": "code",
   "execution_count": 47,
   "id": "945f4ec5",
   "metadata": {},
   "outputs": [
    {
     "data": {
      "text/plain": [
       "np.float64(17.4922)"
      ]
     },
     "execution_count": 47,
     "metadata": {},
     "output_type": "execute_result"
    }
   ],
   "source": [
    "s.mean()"
   ]
  },
  {
   "cell_type": "code",
   "execution_count": 48,
   "id": "519b8ad0",
   "metadata": {},
   "outputs": [
    {
     "data": {
      "text/plain": [
       "price_usd     17.4922\n",
       "servings     243.0900\n",
       "dtype: float64"
      ]
     },
     "execution_count": 48,
     "metadata": {},
     "output_type": "execute_result"
    }
   ],
   "source": [
    "d.mean()"
   ]
  },
  {
   "cell_type": "code",
   "execution_count": 49,
   "id": "d968ad84",
   "metadata": {},
   "outputs": [
    {
     "data": {
      "text/plain": [
       "np.int64(261)"
      ]
     },
     "execution_count": 49,
     "metadata": {},
     "output_type": "execute_result"
    }
   ],
   "source": [
    "df['servings'].iloc[0]"
   ]
  },
  {
   "cell_type": "code",
   "execution_count": 51,
   "id": "312af0a0",
   "metadata": {},
   "outputs": [
    {
     "data": {
      "text/plain": [
       "servings       261\n",
       "country     Brazil\n",
       "Name: 0, dtype: object"
      ]
     },
     "execution_count": 51,
     "metadata": {},
     "output_type": "execute_result"
    }
   ],
   "source": [
    "df[['servings','country']].iloc[0]"
   ]
  },
  {
   "cell_type": "code",
   "execution_count": 52,
   "id": "d48d617e",
   "metadata": {},
   "outputs": [
    {
     "data": {
      "text/plain": [
       "numpy.int64"
      ]
     },
     "execution_count": 52,
     "metadata": {},
     "output_type": "execute_result"
    }
   ],
   "source": [
    "type(df['servings'].iloc[0])"
   ]
  },
  {
   "cell_type": "code",
   "execution_count": 53,
   "id": "44f7a2d9",
   "metadata": {},
   "outputs": [
    {
     "data": {
      "text/plain": [
       "pandas.core.series.Series"
      ]
     },
     "execution_count": 53,
     "metadata": {},
     "output_type": "execute_result"
    }
   ],
   "source": [
    "type(df[['servings','country']].iloc[0])"
   ]
  },
  {
   "cell_type": "code",
   "execution_count": null,
   "id": "37bfdbb0",
   "metadata": {},
   "outputs": [],
   "source": []
  }
 ],
 "metadata": {
  "kernelspec": {
   "display_name": "Python (ml_env)",
   "language": "python",
   "name": "ml_env"
  },
  "language_info": {
   "codemirror_mode": {
    "name": "ipython",
    "version": 3
   },
   "file_extension": ".py",
   "mimetype": "text/x-python",
   "name": "python",
   "nbconvert_exporter": "python",
   "pygments_lexer": "ipython3",
   "version": "3.11.13"
  }
 },
 "nbformat": 4,
 "nbformat_minor": 5
}
